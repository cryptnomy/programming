{
 "cells": [
  {
   "cell_type": "markdown",
   "metadata": {},
   "source": [
    "## Home data for ML course\n",
    "#### 4. Model Validation"
   ]
  },
  {
   "cell_type": "code",
   "execution_count": 6,
   "metadata": {},
   "outputs": [
    {
     "name": "stdout",
     "output_type": "stream",
     "text": [
      "First in-sample predictions: [208500. 181500. 223500. 140000. 250000.]\n",
      "Actual target values for those homes: [208500, 181500, 223500, 140000, 250000]\n"
     ]
    }
   ],
   "source": [
    "# Code you have previously used to load data\n",
    "import pandas as pd\n",
    "from sklearn.tree import DecisionTreeRegressor\n",
    "\n",
    "# Path of the file to read\n",
    "iowa_file_path = '../input/train.csv'\n",
    "\n",
    "home_data = pd.read_csv(iowa_file_path)\n",
    "y = home_data.SalePrice\n",
    "feature_columns = ['LotArea', 'YearBuilt', '1stFlrSF', '2ndFlrSF', 'FullBath', 'BedroomAbvGr', 'TotRmsAbvGrd']\n",
    "X = home_data[feature_columns]\n",
    "\n",
    "# Specify Model\n",
    "iowa_model = DecisionTreeRegressor()\n",
    "# Fit Model\n",
    "iowa_model.fit(X, y)\n",
    "\n",
    "print('First in-sample predictions:', iowa_model.predict(X.head()))\n",
    "print('Actual target values for those homes:', y.head().tolist())\n"
   ]
  },
  {
   "cell_type": "code",
   "execution_count": 7,
   "metadata": {},
   "outputs": [],
   "source": [
    "# Import the train_test_split function and uncomment\n",
    "# from _ import _\n",
    "from sklearn.model_selection import train_test_split\n",
    "\n",
    "# fill in and uncomment\n",
    "# train_X, val_X, train_y, val_y = ____\n",
    "train_X, val_X, train_y, val_y = train_test_split(X, y, random_state=1)"
   ]
  },
  {
   "cell_type": "code",
   "execution_count": 8,
   "metadata": {},
   "outputs": [
    {
     "data": {
      "text/html": [
       "<style>#sk-container-id-2 {color: black;background-color: white;}#sk-container-id-2 pre{padding: 0;}#sk-container-id-2 div.sk-toggleable {background-color: white;}#sk-container-id-2 label.sk-toggleable__label {cursor: pointer;display: block;width: 100%;margin-bottom: 0;padding: 0.3em;box-sizing: border-box;text-align: center;}#sk-container-id-2 label.sk-toggleable__label-arrow:before {content: \"▸\";float: left;margin-right: 0.25em;color: #696969;}#sk-container-id-2 label.sk-toggleable__label-arrow:hover:before {color: black;}#sk-container-id-2 div.sk-estimator:hover label.sk-toggleable__label-arrow:before {color: black;}#sk-container-id-2 div.sk-toggleable__content {max-height: 0;max-width: 0;overflow: hidden;text-align: left;background-color: #f0f8ff;}#sk-container-id-2 div.sk-toggleable__content pre {margin: 0.2em;color: black;border-radius: 0.25em;background-color: #f0f8ff;}#sk-container-id-2 input.sk-toggleable__control:checked~div.sk-toggleable__content {max-height: 200px;max-width: 100%;overflow: auto;}#sk-container-id-2 input.sk-toggleable__control:checked~label.sk-toggleable__label-arrow:before {content: \"▾\";}#sk-container-id-2 div.sk-estimator input.sk-toggleable__control:checked~label.sk-toggleable__label {background-color: #d4ebff;}#sk-container-id-2 div.sk-label input.sk-toggleable__control:checked~label.sk-toggleable__label {background-color: #d4ebff;}#sk-container-id-2 input.sk-hidden--visually {border: 0;clip: rect(1px 1px 1px 1px);clip: rect(1px, 1px, 1px, 1px);height: 1px;margin: -1px;overflow: hidden;padding: 0;position: absolute;width: 1px;}#sk-container-id-2 div.sk-estimator {font-family: monospace;background-color: #f0f8ff;border: 1px dotted black;border-radius: 0.25em;box-sizing: border-box;margin-bottom: 0.5em;}#sk-container-id-2 div.sk-estimator:hover {background-color: #d4ebff;}#sk-container-id-2 div.sk-parallel-item::after {content: \"\";width: 100%;border-bottom: 1px solid gray;flex-grow: 1;}#sk-container-id-2 div.sk-label:hover label.sk-toggleable__label {background-color: #d4ebff;}#sk-container-id-2 div.sk-serial::before {content: \"\";position: absolute;border-left: 1px solid gray;box-sizing: border-box;top: 0;bottom: 0;left: 50%;z-index: 0;}#sk-container-id-2 div.sk-serial {display: flex;flex-direction: column;align-items: center;background-color: white;padding-right: 0.2em;padding-left: 0.2em;position: relative;}#sk-container-id-2 div.sk-item {position: relative;z-index: 1;}#sk-container-id-2 div.sk-parallel {display: flex;align-items: stretch;justify-content: center;background-color: white;position: relative;}#sk-container-id-2 div.sk-item::before, #sk-container-id-2 div.sk-parallel-item::before {content: \"\";position: absolute;border-left: 1px solid gray;box-sizing: border-box;top: 0;bottom: 0;left: 50%;z-index: -1;}#sk-container-id-2 div.sk-parallel-item {display: flex;flex-direction: column;z-index: 1;position: relative;background-color: white;}#sk-container-id-2 div.sk-parallel-item:first-child::after {align-self: flex-end;width: 50%;}#sk-container-id-2 div.sk-parallel-item:last-child::after {align-self: flex-start;width: 50%;}#sk-container-id-2 div.sk-parallel-item:only-child::after {width: 0;}#sk-container-id-2 div.sk-dashed-wrapped {border: 1px dashed gray;margin: 0 0.4em 0.5em 0.4em;box-sizing: border-box;padding-bottom: 0.4em;background-color: white;}#sk-container-id-2 div.sk-label label {font-family: monospace;font-weight: bold;display: inline-block;line-height: 1.2em;}#sk-container-id-2 div.sk-label-container {text-align: center;}#sk-container-id-2 div.sk-container {/* jupyter's `normalize.less` sets `[hidden] { display: none; }` but bootstrap.min.css set `[hidden] { display: none !important; }` so we also need the `!important` here to be able to override the default hidden behavior on the sphinx rendered scikit-learn.org. See: https://github.com/scikit-learn/scikit-learn/issues/21755 */display: inline-block !important;position: relative;}#sk-container-id-2 div.sk-text-repr-fallback {display: none;}</style><div id=\"sk-container-id-2\" class=\"sk-top-container\"><div class=\"sk-text-repr-fallback\"><pre>DecisionTreeRegressor(random_state=1)</pre><b>In a Jupyter environment, please rerun this cell to show the HTML representation or trust the notebook. <br />On GitHub, the HTML representation is unable to render, please try loading this page with nbviewer.org.</b></div><div class=\"sk-container\" hidden><div class=\"sk-item\"><div class=\"sk-estimator sk-toggleable\"><input class=\"sk-toggleable__control sk-hidden--visually\" id=\"sk-estimator-id-2\" type=\"checkbox\" checked><label for=\"sk-estimator-id-2\" class=\"sk-toggleable__label sk-toggleable__label-arrow\">DecisionTreeRegressor</label><div class=\"sk-toggleable__content\"><pre>DecisionTreeRegressor(random_state=1)</pre></div></div></div></div></div>"
      ],
      "text/plain": [
       "DecisionTreeRegressor(random_state=1)"
      ]
     },
     "execution_count": 8,
     "metadata": {},
     "output_type": "execute_result"
    }
   ],
   "source": [
    "# You imported DecisionTreeRegressor in your last exercise\n",
    "# and that code has been copied to the setup code above. So, no need to\n",
    "# import it again\n",
    "\n",
    "# Specify the model\n",
    "iowa_model = DecisionTreeRegressor(random_state=1)\n",
    "\n",
    "# Fit iowa_model with the training data.\n",
    "iowa_model.fit(train_X, train_y)"
   ]
  },
  {
   "cell_type": "code",
   "execution_count": 11,
   "metadata": {},
   "outputs": [
    {
     "data": {
      "text/plain": [
       "array([186500., 184000., 130000.,  92000., 164500., 220000., 335000.,\n",
       "       144152., 215000., 262000., 180000., 121000., 175900., 210000.,\n",
       "       248900., 131000., 100000., 149350., 235000., 156000., 149900.,\n",
       "       265979., 193500., 377500., 100000., 162900., 145000., 180000.,\n",
       "       582933., 146000., 140000.,  91500., 112500., 113000., 145000.,\n",
       "       312500., 110000., 132000., 305000., 128000., 162900., 115000.,\n",
       "       110000., 124000., 215200., 180000.,  79000., 192000., 282922.,\n",
       "       235000., 132000., 325000.,  80000., 237000., 208300., 100000.,\n",
       "       120500., 162000., 153000., 187000., 185750., 335000., 129000.,\n",
       "       124900., 185750., 133700., 127000., 230000., 146800., 157900.,\n",
       "       136000., 153575., 335000., 177500., 143000., 202500., 168500.,\n",
       "       105000., 305900., 192000., 190000., 140200., 134900., 128950.,\n",
       "       213000., 108959., 149500., 190000., 175900., 160000., 250580.,\n",
       "       157000., 120500., 147500., 118000., 117000., 110000., 130000.,\n",
       "       148500., 148000., 190000., 130500., 127000., 120500., 135000.,\n",
       "       168000., 176432., 128000., 147000., 260000., 132000., 129500.,\n",
       "       171000., 181134., 227875., 189000., 282922.,  94750., 185000.,\n",
       "       194000., 159000., 279500., 290000., 135000., 299800., 165000.,\n",
       "       394432., 135750., 155000., 212000., 310000., 134800.,  84000.,\n",
       "       122900.,  80000., 191000., 755000., 147000., 248000., 106500.,\n",
       "       145000., 359100., 145000., 192500., 149000., 252000., 109000.,\n",
       "       215000., 220000., 138500., 185000., 185000., 120500., 181000.,\n",
       "       173000., 335000.,  67000., 149350.,  67000., 156000., 119000.,\n",
       "       110500., 184000., 147000., 156000., 171000., 177000., 159000.,\n",
       "       125000., 105000., 284000., 167500., 200000., 312500., 213000.,\n",
       "       135960., 205000., 237000., 107000., 163000., 132500., 155835.,\n",
       "       165500., 138500., 257000., 160000., 394617., 281213., 161000.,\n",
       "       127500.,  88000., 139000.,  89500., 132500., 134800., 335000.,\n",
       "       248900., 155000., 147000.,  86000., 185000., 200000., 180500.,\n",
       "       215200., 319900., 105000., 194000., 340000., 256000., 280000.,\n",
       "       186500., 105500., 155000., 133500., 255500., 253000., 130000.,\n",
       "        92900., 256000., 100000., 755000., 138500., 168500., 112000.,\n",
       "       127000., 109008., 197000., 245500., 171900., 162000., 128000.,\n",
       "       173000., 132000., 118000., 235128., 118964., 260000., 116000.,\n",
       "       185000., 315750., 236500., 140000., 151500., 184000.,  84000.,\n",
       "       130000., 154000., 205000., 110000., 151500., 123000., 129500.,\n",
       "       173900., 181500., 165500., 106500., 184900.,  84500., 377500.,\n",
       "       118500., 180000., 190000., 208500., 181000.,  98000., 157000.,\n",
       "       151500.,  84000., 139000., 100000., 161750., 165600., 116000.,\n",
       "       118500., 187000., 147000., 112000., 132000., 230000., 128000.,\n",
       "       147000., 125000., 145000., 151000., 284000., 221000., 140200.,\n",
       "       129000., 290000., 105000.,  96500., 310000., 140000., 132000.,\n",
       "       203000., 221000., 215200., 214000., 139000.,  91500., 148000.,\n",
       "       155000., 115000., 180000., 165500., 223000., 139000., 179900.,\n",
       "       150000., 185000., 163000., 176000., 127000., 227000., 146000.,\n",
       "        99900., 275000., 180500., 180000., 157000., 186500., 179900.,\n",
       "       137500., 219500., 155000., 345000., 197000., 205000., 159000.,\n",
       "       159434., 156000., 196000., 252678., 255500., 213000., 150900.,\n",
       "       143750., 139000., 260000., 189000., 213250., 207500.,  80000.,\n",
       "       221000., 109500., 155000., 165000., 149350., 204900., 105900.,\n",
       "       155000., 176000., 395000., 149700., 147000., 143900., 226700.,\n",
       "       176000., 116000., 325300., 133750., 188500., 148500., 284000.,\n",
       "       201800.])"
      ]
     },
     "execution_count": 11,
     "metadata": {},
     "output_type": "execute_result"
    }
   ],
   "source": [
    "# Predict with all validation observations\n",
    "val_predictions = iowa_model.predict(val_X)\n",
    "val_predictions"
   ]
  },
  {
   "cell_type": "code",
   "execution_count": 12,
   "metadata": {},
   "outputs": [
    {
     "data": {
      "text/plain": [
       "29652.931506849316"
      ]
     },
     "execution_count": 12,
     "metadata": {},
     "output_type": "execute_result"
    }
   ],
   "source": [
    "from sklearn.metrics import mean_absolute_error\n",
    "val_mae = mean_absolute_error(val_y, val_predictions)\n",
    "val_mae"
   ]
  },
  {
   "cell_type": "code",
   "execution_count": null,
   "metadata": {},
   "outputs": [],
   "source": []
  }
 ],
 "metadata": {
  "kernelspec": {
   "display_name": "Python 3.9.12 ('ai')",
   "language": "python",
   "name": "python3"
  },
  "language_info": {
   "codemirror_mode": {
    "name": "ipython",
    "version": 3
   },
   "file_extension": ".py",
   "mimetype": "text/x-python",
   "name": "python",
   "nbconvert_exporter": "python",
   "pygments_lexer": "ipython3",
   "version": "3.9.12"
  },
  "orig_nbformat": 4,
  "vscode": {
   "interpreter": {
    "hash": "08df65f0370be3f33046daa5b6084091294a33fdabcb86999e4195ea5b522871"
   }
  }
 },
 "nbformat": 4,
 "nbformat_minor": 2
}
