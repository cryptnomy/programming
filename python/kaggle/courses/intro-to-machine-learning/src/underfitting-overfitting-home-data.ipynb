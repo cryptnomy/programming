{
 "cells": [
  {
   "cell_type": "markdown",
   "metadata": {},
   "source": [
    "## Home data\n",
    "#### 5. Underfitting and Overfitting\n",
    "- Overfitting ... occurs when a model matches the training data almost perfectly, but does poorly in validation and other new data.\n",
    "- Underfitting ... occurs when a model fails to capture important distinctions and patterns in the data, so it performs poorly even in training data."
   ]
  },
  {
   "cell_type": "code",
   "execution_count": null,
   "metadata": {},
   "outputs": [],
   "source": []
  }
 ],
 "metadata": {
  "kernelspec": {
   "display_name": "Python 3.10.6 64-bit (windows store)",
   "language": "python",
   "name": "python3"
  },
  "language_info": {
   "name": "python",
   "version": "3.10.6"
  },
  "orig_nbformat": 4,
  "vscode": {
   "interpreter": {
    "hash": "bdd5bc117c4b2ca08287c4075a6a3bc71cddede4972c509c5affcc2ca2006b8e"
   }
  }
 },
 "nbformat": 4,
 "nbformat_minor": 2
}
