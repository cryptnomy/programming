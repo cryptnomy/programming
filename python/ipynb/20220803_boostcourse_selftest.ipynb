{
 "cells": [
  {
   "cell_type": "code",
   "execution_count": 11,
   "metadata": {},
   "outputs": [
    {
     "name": "stdout",
     "output_type": "stream",
     "text": [
      "[[4, 6], [7, 9]]\n",
      "[[4, 6], [7, 9]]\n"
     ]
    }
   ],
   "source": [
    "arr1 = [[1, 2], [2, 3]]\n",
    "arr2 = [[3, 4], [5, 6]]\n",
    "\n",
    "answer = []\n",
    "for row in range(len(arr1)):\n",
    "    answer.append(list(sum(c) for c in list(zip(arr1[row], arr2[row]))))\n",
    "print(answer)\n",
    "\n",
    "# def sumMatrix(mat1, mat2):\n",
    "#     answer = [[r + c for r, c in zip(row1, row2)] for row1, row2 in zip(mat1, mat2)]\n",
    "#     return answer\n",
    "# print(sumMatrix(arr1, arr2))\n",
    "\n",
    "def sumMatix(A, B):\n",
    "    return [list(map(sum, zip(*x))) for x in zip(A, B)]"
   ]
  },
  {
   "cell_type": "code",
   "execution_count": null,
   "metadata": {},
   "outputs": [],
   "source": []
  }
 ],
 "metadata": {
  "kernelspec": {
   "display_name": "Python 3.10.5 64-bit (windows store)",
   "language": "python",
   "name": "python3"
  },
  "language_info": {
   "codemirror_mode": {
    "name": "ipython",
    "version": 3
   },
   "file_extension": ".py",
   "mimetype": "text/x-python",
   "name": "python",
   "nbconvert_exporter": "python",
   "pygments_lexer": "ipython3",
   "version": "3.10.5"
  },
  "orig_nbformat": 4,
  "vscode": {
   "interpreter": {
    "hash": "bdd5bc117c4b2ca08287c4075a6a3bc71cddede4972c509c5affcc2ca2006b8e"
   }
  }
 },
 "nbformat": 4,
 "nbformat_minor": 2
}
