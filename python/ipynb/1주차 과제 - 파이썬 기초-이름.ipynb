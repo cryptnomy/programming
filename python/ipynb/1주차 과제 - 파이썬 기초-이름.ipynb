{
 "cells": [
  {
   "cell_type": "markdown",
   "metadata": {
    "id": "2PtQS3ZvFxFc"
   },
   "source": [
    "### 1. print 구문으로 문자열 \"Hello World!\"를 출력해 보세요. \n",
    "\n",
    "출력결과는 아래와 같습니다.\n",
    "```\n",
    "Hello World!\n",
    "```"
   ]
  },
  {
   "cell_type": "code",
   "execution_count": null,
   "metadata": {
    "id": "k1jFYZs7FwtV"
   },
   "outputs": [],
   "source": []
  },
  {
   "cell_type": "markdown",
   "metadata": {
    "id": "RL2W7-hxF8An"
   },
   "source": [
    "## 사칙연산\n",
    "### 2. 더하기 1 + 1 을 아래의 셀에 입력 후 실행해 보세요."
   ]
  },
  {
   "cell_type": "code",
   "execution_count": null,
   "metadata": {
    "id": "x6MhRuYZFo4W"
   },
   "outputs": [],
   "source": []
  },
  {
   "cell_type": "markdown",
   "metadata": {
    "id": "HpJ7xFtrGXQG"
   },
   "source": [
    "### 3. 빼기 7 - 3 을 아래의 셀에 입력 후 실행해 보세요. "
   ]
  },
  {
   "cell_type": "code",
   "execution_count": null,
   "metadata": {
    "id": "304JBW03GW2j"
   },
   "outputs": [],
   "source": []
  },
  {
   "cell_type": "markdown",
   "metadata": {
    "id": "PpL0kd5nGdXC"
   },
   "source": [
    "### 4. 곱하기 3 * 4 를 아래의 셀에 입력 후 실행해 보세요."
   ]
  },
  {
   "cell_type": "code",
   "execution_count": null,
   "metadata": {
    "id": "4DgQ2TjLGVBe"
   },
   "outputs": [],
   "source": []
  },
  {
   "cell_type": "markdown",
   "metadata": {
    "id": "WAebOJCOfmq2"
   },
   "source": [
    "### 5. 나누기 3/2 를 아래의 셀에 입력 후 실행해 보세요."
   ]
  },
  {
   "cell_type": "code",
   "execution_count": null,
   "metadata": {
    "id": "ESoyBUFOpcVr"
   },
   "outputs": [],
   "source": []
  },
  {
   "cell_type": "markdown",
   "metadata": {
    "id": "aCSXdn9COSV0"
   },
   "source": [
    "## 변수\n",
    "### 6. 변수할당하기 \"Python\"이라는 문자를 p라는 변수에 할당해 주세요.\n",
    "* 참고: https://dojang.io/mod/page/view.php?id=2176 "
   ]
  },
  {
   "cell_type": "code",
   "execution_count": null,
   "metadata": {
    "id": "B5PI27NxOZzT"
   },
   "outputs": [],
   "source": []
  },
  {
   "cell_type": "markdown",
   "metadata": {
    "id": "h-ueaI94OjFd"
   },
   "source": [
    "### 7. 위에 있는 링크를 참고해서 p 라는 변수에 담겨있는 값을 type을 통해 출력해 주세요."
   ]
  },
  {
   "cell_type": "code",
   "execution_count": null,
   "metadata": {
    "id": "9CN4aIclOopl"
   },
   "outputs": [],
   "source": []
  },
  {
   "cell_type": "markdown",
   "metadata": {
    "id": "GVadKQcGbEw8"
   },
   "source": [
    "### 8. p라는 변수에 담겨있는 문자열을 소문자로 변경해 주세요.\n",
    "* 참고 : https://dojang.io/mod/page/view.php?id=2299 (24.1.5  소문자를 대문자로 바꾸기)\n",
    "\n",
    "아래의 결과가 출력됩니다.\n",
    "```\n",
    "'python'\n",
    "```"
   ]
  },
  {
   "cell_type": "code",
   "execution_count": null,
   "metadata": {
    "id": "zu_DO0fNbEMP"
   },
   "outputs": [],
   "source": []
  },
  {
   "cell_type": "markdown",
   "metadata": {
    "id": "9zyzoWzBeiCG"
   },
   "source": [
    "### 9. p라는 변수에 담겨있는 문자열을 대문자로 변경해 주세요.\n",
    "* 참고 : https://dojang.io/mod/page/view.php?id=2299 (24.1.6  대문자를 소문자로 바꾸기)\n",
    "\n",
    "아래의 결과가 출력됩니다.\n",
    "```\n",
    "'PYTHON'\n",
    "```"
   ]
  },
  {
   "cell_type": "code",
   "execution_count": null,
   "metadata": {
    "id": "D4TeZvQDehmB"
   },
   "outputs": [],
   "source": []
  },
  {
   "cell_type": "markdown",
   "metadata": {
    "id": "BTiS5uzoOaGM"
   },
   "source": [
    "### 10. number 라는 변수에 1234 를 할당해 주세요.\n",
    "* 참고: https://dojang.io/mod/page/view.php?id=2176 "
   ]
  },
  {
   "cell_type": "code",
   "execution_count": null,
   "metadata": {
    "id": "QxS8-8MbOrfj"
   },
   "outputs": [],
   "source": []
  },
  {
   "cell_type": "markdown",
   "metadata": {
    "id": "0JQ2vDzhPJeR"
   },
   "source": [
    "### 11. number 라는 변수에 담겨있는 값을 type을 통해 출력해 주세요.\n",
    "* 참고: https://dojang.io/mod/page/view.php?id=2176 "
   ]
  },
  {
   "cell_type": "code",
   "execution_count": null,
   "metadata": {
    "id": "-ZnMXeCYPPey"
   },
   "outputs": [],
   "source": []
  },
  {
   "cell_type": "markdown",
   "metadata": {
    "id": "yGu7gm5RMF0u"
   },
   "source": [
    "## 비교연산"
   ]
  },
  {
   "cell_type": "markdown",
   "metadata": {
    "id": "SDuWv-V_MRdS"
   },
   "source": [
    "### 12. 1 + 2 는 3 과 같습니다.  1 + 2 가 3과 같음을 표현해 보세요.\n",
    "* 참고 : https://dojang.io/mod/page/view.php?id=2191"
   ]
  },
  {
   "cell_type": "code",
   "execution_count": null,
   "metadata": {
    "id": "jXaSMqQcMQ7w"
   },
   "outputs": [],
   "source": []
  },
  {
   "cell_type": "markdown",
   "metadata": {
    "id": "eioHHwqbNstd"
   },
   "source": [
    "### 13. 1 + 2 는 4와 다릅니다. 위 문제의 링크를 참고해서 1 + 2 가 4와 같지 않음을 표현해 보세요."
   ]
  },
  {
   "cell_type": "code",
   "execution_count": null,
   "metadata": {
    "id": "pKoIYTDHMIbm"
   },
   "outputs": [],
   "source": []
  },
  {
   "cell_type": "markdown",
   "metadata": {
    "id": "KRozSJvyPSEe"
   },
   "source": [
    "### 14. 2 + 3 은 4보다 크다는 것을 표현해 보세요. 결과값이 True가 찍히도록 구현합니다."
   ]
  },
  {
   "cell_type": "code",
   "execution_count": null,
   "metadata": {
    "id": "thyhgfR3PYI_"
   },
   "outputs": [],
   "source": []
  },
  {
   "cell_type": "markdown",
   "metadata": {
    "id": "TRymaVc7PY8D"
   },
   "source": [
    "### 15. 2 + 3 은 6보다 작다는 것을 표현해 보세요. 결과값이 True가 찍히도록 구현합니다."
   ]
  },
  {
   "cell_type": "code",
   "execution_count": null,
   "metadata": {
    "id": "URZiz1aGPdpN"
   },
   "outputs": [],
   "source": []
  },
  {
   "cell_type": "markdown",
   "metadata": {
    "id": "V5oJf_dsP9L0"
   },
   "source": [
    "## 문자열\n",
    "### 16. 다음은 서울에 있는 구를 문자열 형태로 만들어 gu 라는 변수에 담아놓았습니다.\n",
    "* gu라는 변수가 선언되게 아래의 셀을 실행해 주세요."
   ]
  },
  {
   "cell_type": "code",
   "execution_count": null,
   "metadata": {
    "id": "HOrnCwdXSTve"
   },
   "outputs": [],
   "source": [
    "gu = '강남구 강동구 강북구 강서구 관악구 광진구 구로구 금천구 노원구 도봉구 동대문구 동작구 마포구 서대문구 서초구 성동구 성북구 송파구 양천구 영등포구 용산구 은평구 종로구 중구 중랑구'\n",
    "gu"
   ]
  },
  {
   "cell_type": "markdown",
   "metadata": {
    "id": "u7-K6quRTv4k"
   },
   "source": [
    "### 17. 다음 링크의 split() 을 활용해 gu 라는 변수에 담겨있는 값을 리스트 형태를 변경해 주세요. 그리고 gu_list 라는 변수에 결과 값을 담아주세요.\n",
    "* 참고 : https://dojang.io/mod/page/view.php?id=2299 (24.1.3  문자열 분리하기)"
   ]
  },
  {
   "cell_type": "code",
   "execution_count": null,
   "metadata": {
    "id": "6kdgcnQrTZQz"
   },
   "outputs": [],
   "source": [
    "gu"
   ]
  },
  {
   "cell_type": "markdown",
   "metadata": {
    "id": "LzxfRMonfXgl"
   },
   "source": [
    "### 18. len 을 활용하여 gu 라는 변수에 담겨져 있는 문자열의 수를 세어보세요.\n",
    "* 참고 : https://dojang.io/mod/page/view.php?id=2206"
   ]
  },
  {
   "cell_type": "code",
   "execution_count": null,
   "metadata": {
    "id": "IrpR14gdfXNu"
   },
   "outputs": [],
   "source": []
  },
  {
   "cell_type": "markdown",
   "metadata": {
    "id": "SCnwkEEpXXMt"
   },
   "source": [
    "### 19. join 을 사용해서 gu_list 변수 안에 담겨져 있는 값을 공백(스페이스)으로 연결되도록 해보세요.\n",
    "* 참고 : https://dojang.io/mod/page/view.php?id=2299 (24.1.4  구분자 문자열과 문자열 리스트 연결하기)"
   ]
  },
  {
   "cell_type": "code",
   "execution_count": null,
   "metadata": {
    "id": "RG8kIIyfWjJm"
   },
   "outputs": [],
   "source": []
  },
  {
   "cell_type": "markdown",
   "metadata": {
    "id": "OQb6WlO-gCXg"
   },
   "source": [
    "### 20. 반복문(for)을 사용하여 구를 순서대로 출력해 주세요.\n",
    "* 아래 for문이 오류 없이 돌아가도록 변경해 주세요.\n",
    "* gu_list 변수를 활용합니다."
   ]
  },
  {
   "cell_type": "code",
   "execution_count": null,
   "metadata": {
    "id": "iZ1OTUpEgB0Y"
   },
   "outputs": [],
   "source": [
    "for __ in _____:\n",
    "    print(__)"
   ]
  },
  {
   "cell_type": "markdown",
   "metadata": {
    "id": "lwP9gaeq_rC1"
   },
   "source": [
    "### 21. \"2023년 02월\"이라는 문자열에서 split 과 인덱싱을 사용해서 월을 분리해 주세요. 02를 출력합니다."
   ]
  },
  {
   "cell_type": "code",
   "execution_count": null,
   "metadata": {
    "id": "_VNyHDPS_9Is"
   },
   "outputs": [],
   "source": [
    "\"2023년 02월\""
   ]
  },
  {
   "cell_type": "markdown",
   "metadata": {
    "id": "foNx7-IvAI5n"
   },
   "source": [
    "### 22. 다음의 리스트에서 스타벅스일때는 \"스타벅스 green\" 을 이디야 일때는 \"이디야 blue\"를 출력하도록 하는 코드입니다. 제대로 동작하도록 수정해 보세요."
   ]
  },
  {
   "cell_type": "code",
   "execution_count": null,
   "metadata": {
    "id": "VZHCbYF0AGYM"
   },
   "outputs": [],
   "source": [
    "coffee = [\"스타벅스\", \"이디야\"]\n",
    "\n",
    "for c in ________:\n",
    "    ___ c == \"스타벅스\":\n",
    "        print(c, \"green\")\n",
    "    ___ c==\"이디야\":\n",
    "        print(c, \"blue\")"
   ]
  },
  {
   "cell_type": "markdown",
   "metadata": {
    "id": "GmYAIZM4c-Lz"
   },
   "source": [
    "### 23. 아래의 for 문이 5번 print 문을 출력하도록 수정해 보세요.\n",
    "* 참고 : https://dojang.io/mod/page/view.php?id=2241"
   ]
  },
  {
   "cell_type": "code",
   "execution_count": null,
   "metadata": {
    "id": "lbcJPy93DRlz"
   },
   "outputs": [],
   "source": [
    "for i in _______(5):\n",
    "    print(i)"
   ]
  },
  {
   "cell_type": "markdown",
   "metadata": {
    "id": "eyt1Xj8-dgsK"
   },
   "source": [
    "### 24. % 연산을 하면 나머지를 구할 수 있습니다. 아래의 코드에서 홀수가 출력되도록 코드를 수정해 보세요.\n",
    "* 참고 : https://dojang.io/mod/page/view.php?id=2227"
   ]
  },
  {
   "cell_type": "code",
   "execution_count": null,
   "metadata": {
    "id": "XoHTSaVBd7w4"
   },
   "outputs": [],
   "source": [
    "number = 11\n",
    "if number __ 2 == 0 :\n",
    "    print(\"짝수\")\n",
    "else:\n",
    "    print(\"홀수\")"
   ]
  },
  {
   "cell_type": "markdown",
   "metadata": {
    "id": "WogNL9UxeOUV"
   },
   "source": [
    "### 25. 슬라이스를 사용하면 문자열이나 리스트를 원소의 번호로 나눌 수 있습니다. 아래의 전화번호에서 010 국번만 출력하도록 슬라이싱을 해보세요.\n",
    "* 참고 : https://dojang.io/mod/page/view.php?id=2208"
   ]
  },
  {
   "cell_type": "code",
   "execution_count": null,
   "metadata": {
    "id": "PTTaAUr4ekdI"
   },
   "outputs": [],
   "source": [
    "mobile = \"82-010-9876-4321\"\n"
   ]
  },
  {
   "cell_type": "markdown",
   "metadata": {},
   "source": [
    "## 26. for과 if를 사용하여 369게임을 만들어보세요.\n",
    "\n",
    "* for문과 range를 활용해서 숫자를 1씩 올려준뒤, if를 활용해서 3, 6, 9로 끝나는지 확인하면 됩니다.  \n",
    "* range([초기치, 최종치, 증가치])를 사용하면 초기치, 최종치, 증가치에 따른 초기치 이상 최종치 미만의 리스트를 만들어 줍니다.\n",
    "* range(0, 10, 1)은 range(10)과 같습니다.\n",
    "* int(str(i)[-1]) 을 활용하면 마지막 자리의 끝나는 숫자를 알 수 있습니다.\n",
    "* in [3, 6, 9] 를 사용하면 해당 숫자가 3, 6, 9에 해당되는지 알 수 있습니다.\n",
    "\n",
    "다음과 같이 출력되도록 작성해 주세요.\n",
    "\n",
    "```\n",
    "1\n",
    "2\n",
    "짝\n",
    "4\n",
    "5\n",
    "짝\n",
    "7\n",
    "8\n",
    "짝\n",
    "10\n",
    "11\n",
    "12\n",
    "짝\n",
    "14\n",
    "15\n",
    "짝\n",
    "17\n",
    "18\n",
    "짝\n",
    "20\n",
    "```"
   ]
  },
  {
   "cell_type": "code",
   "execution_count": null,
   "metadata": {
    "id": "dDgKH8JeiZ4B"
   },
   "outputs": [],
   "source": [
    "# 아래 for 문을 활용하여 위 출력과 같이 3, 6, 9에 \"짝\"이 출력되도록 해주세요!\n",
    "for i in range(1, 21):\n",
    "    print(i)"
   ]
  },
  {
   "cell_type": "markdown",
   "metadata": {},
   "source": [
    "## 27. 반복문(for) 두 개로 구구단을 출력해보세요.\n",
    "\n",
    "다음과 같이 메시지가 출력되도록 작성해 주세요.\n",
    "```\n",
    "2단 시작!\n",
    "2 X 1 = 2\n",
    "2 X 2 = 4\n",
    "2 X 3 = 6\n",
    "2 X 4 = 8\n",
    "2 X 5 = 10\n",
    "2 X 6 = 12\n",
    "2 X 7 = 14\n",
    "2 X 8 = 16\n",
    "2 X 9 = 18\n",
    "...\n",
    "```"
   ]
  },
  {
   "cell_type": "code",
   "execution_count": null,
   "metadata": {},
   "outputs": [],
   "source": [
    "# 2~9단까지 빈칸을 완성하여 구현해 주세요.\n",
    "for i in ______(?, ?):\n",
    "    print(f'{i}단 시작!')\n",
    "    for j in ______(1, 10):\n",
    "        print(f'{i} X {j} = {_________}')"
   ]
  }
 ],
 "metadata": {
  "colab": {
   "collapsed_sections": [],
   "name": "ND-파이썬기초-과제1.ipynb",
   "private_outputs": true,
   "provenance": []
  },
  "kernelspec": {
   "display_name": "Python 3 (ipykernel)",
   "language": "python",
   "name": "python3"
  },
  "language_info": {
   "codemirror_mode": {
    "name": "ipython",
    "version": 3
   },
   "file_extension": ".py",
   "mimetype": "text/x-python",
   "name": "python",
   "nbconvert_exporter": "python",
   "pygments_lexer": "ipython3",
   "version": "3.7.6"
  },
  "toc": {
   "base_numbering": 1,
   "nav_menu": {},
   "number_sections": true,
   "sideBar": true,
   "skip_h1_title": false,
   "title_cell": "Table of Contents",
   "title_sidebar": "Contents",
   "toc_cell": false,
   "toc_position": {},
   "toc_section_display": true,
   "toc_window_display": false
  },
  "varInspector": {
   "cols": {
    "lenName": 16,
    "lenType": 16,
    "lenVar": 40
   },
   "kernels_config": {
    "python": {
     "delete_cmd_postfix": "",
     "delete_cmd_prefix": "del ",
     "library": "var_list.py",
     "varRefreshCmd": "print(var_dic_list())"
    },
    "r": {
     "delete_cmd_postfix": ") ",
     "delete_cmd_prefix": "rm(",
     "library": "var_list.r",
     "varRefreshCmd": "cat(var_dic_list()) "
    }
   },
   "types_to_exclude": [
    "module",
    "function",
    "builtin_function_or_method",
    "instance",
    "_Feature"
   ],
   "window_display": false
  }
 },
 "nbformat": 4,
 "nbformat_minor": 1
}
