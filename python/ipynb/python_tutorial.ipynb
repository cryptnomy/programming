{
 "cells": [
  {
   "cell_type": "code",
   "execution_count": 1,
   "metadata": {},
   "outputs": [],
   "source": [
    "def swap_value(x, y):\n",
    "    temp = x\n",
    "    x = y\n",
    "    y = temp\n",
    "\n",
    "def swap_offset(x_offset, y_offset):\n",
    "    temp = ls[x_offset]\n",
    "    ls[x_offset] = ls[y_offset]\n",
    "    ls[y_offset] = temp\n",
    "\n",
    "def swap_reference(ls, x_offset, y_offset):\n",
    "    temp_ls = ls[:]\n",
    "    temp = temp_ls[x_offset]\n",
    "    temp_ls[x_offset] = temp_ls[y_offset]\n",
    "    temp_ls[y_offset] = temp"
   ]
  },
  {
   "cell_type": "code",
   "execution_count": 2,
   "metadata": {},
   "outputs": [
    {
     "data": {
      "text/plain": [
       "[1, 2, 3, 4, 5]"
      ]
     },
     "execution_count": 2,
     "metadata": {},
     "output_type": "execute_result"
    }
   ],
   "source": [
    "ls = [1, 2, 3, 4, 5]\n",
    "swap_value(ls[0], ls[1])\n",
    "ls"
   ]
  },
  {
   "cell_type": "code",
   "execution_count": 3,
   "metadata": {},
   "outputs": [
    {
     "data": {
      "text/plain": [
       "[2, 1, 3, 4, 5]"
      ]
     },
     "execution_count": 3,
     "metadata": {},
     "output_type": "execute_result"
    }
   ],
   "source": [
    "swap_offset(0, 1)\n",
    "ls"
   ]
  },
  {
   "cell_type": "code",
   "execution_count": 4,
   "metadata": {},
   "outputs": [
    {
     "data": {
      "text/plain": [
       "[1, 2, 3, 4, 5]"
      ]
     },
     "execution_count": 4,
     "metadata": {},
     "output_type": "execute_result"
    }
   ],
   "source": [
    "ls = [1, 2, 3, 4, 5]\n",
    "swap_reference(ls, 0, 1)\n",
    "ls"
   ]
  },
  {
   "cell_type": "code",
   "execution_count": 5,
   "metadata": {},
   "outputs": [
    {
     "name": "stdout",
     "output_type": "stream",
     "text": [
      "120\n"
     ]
    }
   ],
   "source": [
    "def factorial(n):\n",
    "    return 1 if n == 1 else n * factorial(n - 1)\n",
    "\n",
    "print(factorial(int(input(\"Input Number for Factorial Calculation: \"))))"
   ]
  },
  {
   "cell_type": "code",
   "execution_count": 6,
   "metadata": {},
   "outputs": [
    {
     "data": {
      "text/plain": [
       "'Hello, GT'"
      ]
     },
     "execution_count": 6,
     "metadata": {},
     "output_type": "execute_result"
    }
   ],
   "source": [
    "# function type hints\n",
    "def type_hint_example(name: str) -> str:\n",
    "    return f'Hello, {name}'\n",
    "\n",
    "type_hint_example(\"GT\")"
   ]
  },
  {
   "cell_type": "code",
   "execution_count": 7,
   "metadata": {},
   "outputs": [
    {
     "name": "stdout",
     "output_type": "stream",
     "text": [
      "\n",
      "    Returns the sum of two decimal numbers in binary digits.\n",
      "        Parameters:\n",
      "            a (int): A decimal integer\n",
      "            b (int): Another decimal integer\n",
      "        Returns:\n",
      "            binary_sum (str): Binary string of the sum of a and b\n",
      "    \n"
     ]
    }
   ],
   "source": [
    "# docstring\n",
    "def add_binary(a, b):  \n",
    "    '''\n",
    "    Returns the sum of two decimal numbers in binary digits.\n",
    "        Parameters:\n",
    "            a (int): A decimal integer\n",
    "            b (int): Another decimal integer\n",
    "        Returns:\n",
    "            binary_sum (str): Binary string of the sum of a and b\n",
    "    '''\n",
    "    binary_sum = bin(a + b)[2:]\n",
    "    return binary_sum\n",
    "\n",
    "print(add_binary.__doc__)"
   ]
  },
  {
   "cell_type": "code",
   "execution_count": 8,
   "metadata": {},
   "outputs": [],
   "source": [
    "def calculate_rectangle_area(x: int, y: int) -> int:\n",
    "    \"\"\"_summary_\n",
    "\n",
    "    Args:\n",
    "        x (int): _description_\n",
    "        y (int): _description_\n",
    "\n",
    "    Returns:\n",
    "        int: _description_\n",
    "    \"\"\"\n",
    "    return x * y"
   ]
  },
  {
   "cell_type": "code",
   "execution_count": 9,
   "metadata": {},
   "outputs": [
    {
     "name": "stdout",
     "output_type": "stream",
     "text": [
      "('America', 1)\n",
      "('Korea', 82)\n",
      "('China', 86)\n",
      "('Japan', 81)\n"
     ]
    }
   ],
   "source": [
    "country_code = {}\n",
    "country_code = {\"America\": 1, \"Korea\": 82, \"China\": 86, \"Japan\": 81}\n",
    "country_code\n",
    "\n",
    "for dict_items in country_code.items():\n",
    "    print(dict_items)"
   ]
  },
  {
   "cell_type": "markdown",
   "metadata": {},
   "source": [
    "### Pythonic code"
   ]
  },
  {
   "cell_type": "code",
   "execution_count": 10,
   "metadata": {},
   "outputs": [
    {
     "data": {
      "text/plain": [
       "['AD', 'AE', 'AF', 'BD', 'BE', 'BF', 'CD', 'CE', 'CF']"
      ]
     },
     "execution_count": 10,
     "metadata": {},
     "output_type": "execute_result"
    }
   ],
   "source": [
    "a = ['A', 'B', 'C']\n",
    "b = ['D', 'E', 'F']\n",
    "\n",
    "c = [i + j for i in a for j in b]\n",
    "c"
   ]
  },
  {
   "cell_type": "code",
   "execution_count": 11,
   "metadata": {},
   "outputs": [
    {
     "data": {
      "text/plain": [
       "['AD', 'AE', 'AF', 'BD', 'BE', 'BF', 'CD', 'CE', 'CF']"
      ]
     },
     "execution_count": 11,
     "metadata": {},
     "output_type": "execute_result"
    }
   ],
   "source": [
    "d = []\n",
    "for i in a:\n",
    "    for j in b:\n",
    "        d.append(i + j)\n",
    "d"
   ]
  },
  {
   "cell_type": "code",
   "execution_count": 12,
   "metadata": {},
   "outputs": [
    {
     "data": {
      "text/plain": [
       "[['AD', 'AE', 'AF'], ['BD', 'BE', 'BF'], ['CD', 'CE', 'CF']]"
      ]
     },
     "execution_count": 12,
     "metadata": {},
     "output_type": "execute_result"
    }
   ],
   "source": [
    "e = [[i + j for j in b] for i in a]\n",
    "e"
   ]
  },
  {
   "cell_type": "code",
   "execution_count": 13,
   "metadata": {},
   "outputs": [
    {
     "data": {
      "text/plain": [
       "[['AD', 'AE', 'AF'], ['BD', 'BE', 'BF'], ['CD', 'CE', 'CF']]"
      ]
     },
     "execution_count": 13,
     "metadata": {},
     "output_type": "execute_result"
    }
   ],
   "source": [
    "f = []\n",
    "for i in a:\n",
    "    temp = []\n",
    "    for j in b:\n",
    "        temp.append(i + j)\n",
    "    f.append(temp)\n",
    "f"
   ]
  },
  {
   "cell_type": "code",
   "execution_count": 14,
   "metadata": {},
   "outputs": [
    {
     "data": {
      "text/plain": [
       "[1, 4, 3, 16, 5]"
      ]
     },
     "execution_count": 14,
     "metadata": {},
     "output_type": "execute_result"
    }
   ],
   "source": [
    "ex = list(range(1, 6))\n",
    "a = list(map(lambda x: x*x if x & 1 == 0 else x, ex))\n",
    "a"
   ]
  },
  {
   "cell_type": "code",
   "execution_count": 15,
   "metadata": {},
   "outputs": [
    {
     "data": {
      "text/plain": [
       "[1, 4, 3, 16, 5]"
      ]
     },
     "execution_count": 15,
     "metadata": {},
     "output_type": "execute_result"
    }
   ],
   "source": [
    "b = [value*value if value & 1 == 0 else value for value in ex]\n",
    "b"
   ]
  },
  {
   "cell_type": "code",
   "execution_count": 16,
   "metadata": {},
   "outputs": [
    {
     "data": {
      "text/plain": [
       "15"
      ]
     },
     "execution_count": 16,
     "metadata": {},
     "output_type": "execute_result"
    }
   ],
   "source": [
    "from functools import reduce\n",
    "reduce(lambda x, y: x + y, list(range(1, 6)))"
   ]
  },
  {
   "cell_type": "code",
   "execution_count": 17,
   "metadata": {},
   "outputs": [
    {
     "data": {
      "text/plain": [
       "120"
      ]
     },
     "execution_count": 17,
     "metadata": {},
     "output_type": "execute_result"
    }
   ],
   "source": [
    "def factorial(n):\n",
    "    return reduce(lambda x, y: x * y, range(1, n + 1)) if n > 0 else 1\n",
    "\n",
    "factorial(5)"
   ]
  },
  {
   "cell_type": "code",
   "execution_count": 18,
   "metadata": {},
   "outputs": [
    {
     "data": {
      "text/plain": [
       "15"
      ]
     },
     "execution_count": 18,
     "metadata": {},
     "output_type": "execute_result"
    }
   ],
   "source": [
    "# Variable-length asterisk\n",
    "\n",
    "def asterisk_test(a, b, *args):\n",
    "    return a + b + sum(args) # tuple type\n",
    "\n",
    "asterisk_test(1, 2, 3, 4, 5)"
   ]
  },
  {
   "cell_type": "code",
   "execution_count": 19,
   "metadata": {},
   "outputs": [],
   "source": [
    "# Keyword variable-length\n",
    "# ** (two asterisks)\n",
    "def kwargs_test_1(**kwargs):\n",
    "    print(kwargs)\n",
    "\n",
    "def kwargs_test_2(**kwargs):\n",
    "    print(kwargs)\n",
    "    print(\"First value is {first}\".format(**kwargs))\n",
    "    print(\"Second value is {second}\".format(**kwargs))\n",
    "    print(\"Third value is {third}\".format(**kwargs))"
   ]
  },
  {
   "cell_type": "code",
   "execution_count": 20,
   "metadata": {},
   "outputs": [
    {
     "name": "stdout",
     "output_type": "stream",
     "text": [
      "{'first': 3, 'second': 4, 'third': 5}\n"
     ]
    }
   ],
   "source": [
    "kwargs_test_1(first=3, second=4, third=5)"
   ]
  },
  {
   "cell_type": "code",
   "execution_count": 21,
   "metadata": {},
   "outputs": [
    {
     "name": "stdout",
     "output_type": "stream",
     "text": [
      "25\n",
      "{'first': 2, 'seconde': 4, 'third': 7}\n"
     ]
    }
   ],
   "source": [
    "def kwargs_test_3(one, two, *args, **kwargs):\n",
    "    print(one + two + sum(args))\n",
    "    print(kwargs)\n",
    "\n",
    "kwargs_test_3(3, 4, 5, 6, 7, first=2, seconde=4, third=7)"
   ]
  },
  {
   "cell_type": "code",
   "execution_count": 22,
   "metadata": {},
   "outputs": [
    {
     "name": "stdout",
     "output_type": "stream",
     "text": [
      "1 2 3 4 5\n",
      "1 (2, 3, 4, 5)\n",
      "<class 'tuple'>\n"
     ]
    }
   ],
   "source": [
    "# Variable-length asterisk != * for unpacking\n",
    "def asterisk_test_2(a, *args):\n",
    "    print(a, *args)\n",
    "    print(a, args)\n",
    "    print(type(args))\n",
    "\n",
    "test = (2, 3, 4, 5)\n",
    "asterisk_test_2(1, *test)"
   ]
  },
  {
   "cell_type": "code",
   "execution_count": 23,
   "metadata": {},
   "outputs": [
    {
     "name": "stdout",
     "output_type": "stream",
     "text": [
      "1 (2, 3, 4, 5)\n",
      "1 ((2, 3, 4, 5),)\n",
      "<class 'tuple'>\n"
     ]
    }
   ],
   "source": [
    "asterisk_test_2(1, test)"
   ]
  },
  {
   "cell_type": "code",
   "execution_count": 24,
   "metadata": {},
   "outputs": [],
   "source": [
    "# snake_case\n",
    "# CamelCase\n",
    "class SoccerPlayer(object):\n",
    "    def __init__(self, name: str, position: int, back_number: int):\n",
    "        self.name = name\n",
    "        self.position = name\n",
    "        self.back_number = back_number\n",
    "    \n",
    "    def change_back_number(self, new_number):\n",
    "        print('Change the back number of a player: from %d to %d' %\\\n",
    "                (self.back_number, new_number))\n",
    "        self.back_number = new_number\n",
    "\n",
    "    def __str__(self):\n",
    "        return 'Hello, My name is %s. My back number is %d' %\\\n",
    "                    (self.name, self.back_number)\n",
    "    \n",
    "    def __add__(self, other):\n",
    "        return self.name + other.name"
   ]
  },
  {
   "cell_type": "code",
   "execution_count": 25,
   "metadata": {},
   "outputs": [
    {
     "name": "stdout",
     "output_type": "stream",
     "text": [
      "Hello, My name is Gildong. My back number is 10\n"
     ]
    },
    {
     "data": {
      "text/plain": [
       "'GildongHeungmin'"
      ]
     },
     "execution_count": 25,
     "metadata": {},
     "output_type": "execute_result"
    }
   ],
   "source": [
    "bahk = SoccerPlayer(\"Gildong\", \"MF\", 10)\n",
    "print(bahk)\n",
    "\n",
    "son = SoccerPlayer(\"Heungmin\", \"FW\", 2)\n",
    "bahk + son"
   ]
  },
  {
   "cell_type": "code",
   "execution_count": 26,
   "metadata": {},
   "outputs": [],
   "source": [
    "class Note(object):\n",
    "    def __init__(self, content=None):\n",
    "        self.content = content\n",
    "    \n",
    "    def write_content(self, content):\n",
    "        self.content = content\n",
    "    \n",
    "    def remove_all(self):\n",
    "        self.content = \"\"\n",
    "\n",
    "    def __add__(self, other):\n",
    "        return self.content + other.content\n",
    "    \n",
    "    def __str__(self):\n",
    "        return self.content"
   ]
  },
  {
   "cell_type": "code",
   "execution_count": 27,
   "metadata": {},
   "outputs": [],
   "source": [
    "class NoteBook(object):\n",
    "    def __init__(self, title):\n",
    "        self.title = title\n",
    "        self.page_number = 1\n",
    "        self.notes = {}\n",
    "\n",
    "    def add_note(self, note, page=0):\n",
    "        if self.page_number < 300:\n",
    "            if page == 0:\n",
    "                self.notes[self.page_number] = note\n",
    "                self.page_number += 1\n",
    "            else:\n",
    "                self.notes = {page: note}\n",
    "                self.page_number += 1\n",
    "        else:\n",
    "            print(\"Pages are full\")\n",
    "    \n",
    "    def remove_notes(self, page_number):\n",
    "        if page_number in self.notes.keys():\n",
    "            return self.notes.pop(page_number)\n",
    "        else:\n",
    "            print(\"Page not found\")\n",
    "\n",
    "    def get_number_of_pages(self):\n",
    "        return len(self.notes.keys())"
   ]
  },
  {
   "cell_type": "code",
   "execution_count": 28,
   "metadata": {},
   "outputs": [],
   "source": [
    "# Inheritance\n",
    "class Person: # class Person(object):\n",
    "    def __init__(self, name, age, sex):\n",
    "        self.name = name    # Attribute specification\n",
    "        self.age = age\n",
    "        self.sex = sex\n",
    "\n",
    "    def about_me(self):\n",
    "        print(\"My name is\", self.name, \"and I am\", str(self.age), \"years old.\")\n",
    "\n",
    "    def __str__(self):\n",
    "        return \"My name is\", self.name, \"and I am\", str(self.age), \"years old.\""
   ]
  },
  {
   "cell_type": "code",
   "execution_count": 29,
   "metadata": {},
   "outputs": [],
   "source": [
    "class Employee(Person):\n",
    "    def __init__(self, name, age, sex, salary, hire_date):\n",
    "        super().__init__(name, age, sex)\n",
    "        self.salary = salary\n",
    "        self.hire_date = hire_date\n",
    "    \n",
    "    def do_work(self):\n",
    "        print(\"Hark working ...\")\n",
    "    \n",
    "    def about_me(self):\n",
    "        super().about_me()\n",
    "        print(\"My salary is\", self.salary, \"dollars and my hire date is\", self.hire_date, \".\")"
   ]
  },
  {
   "cell_type": "code",
   "execution_count": 30,
   "metadata": {},
   "outputs": [
    {
     "name": "stdout",
     "output_type": "stream",
     "text": [
      "My name is Nash and I am 34 years old.\n",
      "My salary is 250000 dollars and my hire date is 2022-07-22 .\n"
     ]
    }
   ],
   "source": [
    "person1 = Person(\"John\", 34, \"Male\")\n",
    "employee1 = Employee(\"Nash\", 34, \"Female\", 250000, \"2022-07-22\")\n",
    "\n",
    "employee1.about_me()"
   ]
  },
  {
   "cell_type": "code",
   "execution_count": 31,
   "metadata": {},
   "outputs": [
    {
     "name": "stdout",
     "output_type": "stream",
     "text": [
      "Missy: meow\n",
      "Lassie: bow wow / woof-woof / ruff ruff\n",
      "Chicken fry: quack-quack\n"
     ]
    }
   ],
   "source": [
    "# Polymorphism\n",
    "class Animal:\n",
    "    def __init__(self, name):\n",
    "        self.name = name\n",
    "    \n",
    "    def cry(self):\n",
    "        raise NotImplementedError(\"Subclass must implement abstract method\")\n",
    "\n",
    "class Cat(Animal):\n",
    "    def cry(self):\n",
    "        return 'meow'\n",
    "\n",
    "class Dog(Animal):\n",
    "    def cry(self):\n",
    "        return 'bow wow / woof-woof / ruff ruff'\n",
    "\n",
    "class Duck(Animal):\n",
    "    def cry(self):\n",
    "        return 'quack-quack'\n",
    "\n",
    "animals = [Cat('Missy'), Dog('Lassie'), Duck('Chicken fry')]\n",
    "\n",
    "for animal in animals:\n",
    "    print(animal.name + \": \" + animal.cry())"
   ]
  },
  {
   "cell_type": "code",
   "execution_count": 32,
   "metadata": {},
   "outputs": [
    {
     "name": "stdout",
     "output_type": "stream",
     "text": [
      "new item added\n",
      "new item added\n"
     ]
    }
   ],
   "source": [
    "# Visibility\n",
    "class Product(object):\n",
    "    pass\n",
    "\n",
    "class Inventory(object):\n",
    "    def __init__(self):\n",
    "        self.__items = []\n",
    "        self.test = \"abc\"\n",
    "    \n",
    "    def add_new_item(self, product):\n",
    "        if type(product) == Product:\n",
    "            self.__items.append(product)\n",
    "            print(\"new item added\")\n",
    "        else:\n",
    "            raise ValueError(\"Invalid item\")\n",
    "\n",
    "    def get_number_of_items(self):\n",
    "        return len(self.__items)\n",
    "\n",
    "    @property # decorator\n",
    "    def items(self):\n",
    "        return self.__items\n",
    "\n",
    "my_inventory = Inventory()\n",
    "my_inventory.add_new_item(Product())\n",
    "my_inventory.add_new_item(Product())"
   ]
  },
  {
   "cell_type": "code",
   "execution_count": 33,
   "metadata": {},
   "outputs": [
    {
     "ename": "AttributeError",
     "evalue": "'Inventory' object has no attribute '__items'",
     "output_type": "error",
     "traceback": [
      "\u001b[1;31m---------------------------------------------------------------------------\u001b[0m",
      "\u001b[1;31mAttributeError\u001b[0m                            Traceback (most recent call last)",
      "\u001b[1;32mc:\\Users\\after\\Documents\\Programming\\python\\ipynb\\jump_to_python.ipynb Cell 34\u001b[0m in \u001b[0;36m<cell line: 1>\u001b[1;34m()\u001b[0m\n\u001b[1;32m----> <a href='vscode-notebook-cell:/c%3A/Users/after/Documents/Programming/python/ipynb/jump_to_python.ipynb#ch0000034?line=0'>1</a>\u001b[0m my_inventory\u001b[39m.\u001b[39;49m__items\n",
      "\u001b[1;31mAttributeError\u001b[0m: 'Inventory' object has no attribute '__items'"
     ]
    }
   ],
   "source": [
    "my_inventory.__items"
   ]
  },
  {
   "cell_type": "code",
   "execution_count": 34,
   "metadata": {},
   "outputs": [
    {
     "data": {
      "text/plain": [
       "[<__main__.Product at 0x211832d2c40>, <__main__.Product at 0x211832d2a60>]"
      ]
     },
     "execution_count": 34,
     "metadata": {},
     "output_type": "execute_result"
    }
   ],
   "source": [
    "my_inventory.items"
   ]
  },
  {
   "cell_type": "code",
   "execution_count": 35,
   "metadata": {},
   "outputs": [
    {
     "name": "stdout",
     "output_type": "stream",
     "text": [
      "Hello, Python\n"
     ]
    }
   ],
   "source": [
    "# inner function\n",
    "def print_msg(msg):\n",
    "    def printer():\n",
    "        print(msg)\n",
    "    return printer\n",
    "\n",
    "another = print_msg(\"Hello, Python\")\n",
    "another()"
   ]
  },
  {
   "cell_type": "code",
   "execution_count": 36,
   "metadata": {},
   "outputs": [
    {
     "name": "stdout",
     "output_type": "stream",
     "text": [
      "<function tag_func.<locals>.inner_func at 0x0000021184DB8E50>\n"
     ]
    }
   ],
   "source": [
    "def tag_func(tag, text):\n",
    "    text = text\n",
    "    tag = tag\n",
    "\n",
    "    def inner_func():\n",
    "        return '<{0}>{1}<{0}>'.format(tag, text)\n",
    "    \n",
    "    return inner_func\n",
    "\n",
    "h1_func = tag_func(\"title\", \"This is Python class\")\n",
    "p_func = tag_func(\"p\", \"Data Academy\")\n",
    "\n",
    "print(h1_func)"
   ]
  },
  {
   "cell_type": "code",
   "execution_count": 37,
   "metadata": {},
   "outputs": [
    {
     "name": "stdout",
     "output_type": "stream",
     "text": [
      "***********\n",
      "   Hello\n",
      "***********\n"
     ]
    }
   ],
   "source": [
    "# decorator\n",
    "def star(func):\n",
    "    def inner(*args, **kwargs):\n",
    "        print(args[1] * 11)\n",
    "        func(*args, **kwargs)\n",
    "        print(args[1] * 11)\n",
    "    return inner\n",
    "\n",
    "@star\n",
    "def printer(msg, mark):\n",
    "    print(msg)\n",
    "\n",
    "printer(\"   Hello\", \"*\")"
   ]
  },
  {
   "cell_type": "code",
   "execution_count": 38,
   "metadata": {},
   "outputs": [
    {
     "name": "stdout",
     "output_type": "stream",
     "text": [
      "33554432\n"
     ]
    }
   ],
   "source": [
    "def generate_power(exponent):\n",
    "    def wrapper(f):\n",
    "        def inner(*args):\n",
    "            result = f(*args)\n",
    "            return exponent ** result\n",
    "        return inner\n",
    "    return wrapper\n",
    "\n",
    "@generate_power(2)\n",
    "def raise_two(n):\n",
    "    return n ** 2\n",
    "\n",
    "print(raise_two(5))"
   ]
  },
  {
   "cell_type": "code",
   "execution_count": null,
   "metadata": {},
   "outputs": [],
   "source": []
  }
 ],
 "metadata": {
  "kernelspec": {
   "display_name": "Python 3.9.12 ('ai')",
   "language": "python",
   "name": "python3"
  },
  "language_info": {
   "codemirror_mode": {
    "name": "ipython",
    "version": 3
   },
   "file_extension": ".py",
   "mimetype": "text/x-python",
   "name": "python",
   "nbconvert_exporter": "python",
   "pygments_lexer": "ipython3",
   "version": "3.9.12"
  },
  "orig_nbformat": 4,
  "vscode": {
   "interpreter": {
    "hash": "08df65f0370be3f33046daa5b6084091294a33fdabcb86999e4195ea5b522871"
   }
  }
 },
 "nbformat": 4,
 "nbformat_minor": 2
}
