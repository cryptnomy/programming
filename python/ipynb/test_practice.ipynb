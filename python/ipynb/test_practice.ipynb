{
 "cells": [
  {
   "cell_type": "markdown",
   "metadata": {},
   "source": [
    "## 2022-08-08 Mon."
   ]
  },
  {
   "cell_type": "code",
   "execution_count": 3,
   "metadata": {},
   "outputs": [
    {
     "name": "stdout",
     "output_type": "stream",
     "text": [
      "<itertools.permutations object at 0x000001E553E77AE0>\n",
      "[('a', 'a', 'b', 'c'), ('a', 'a', 'c', 'b'), ('a', 'b', 'a', 'c'), ('a', 'b', 'c', 'a'), ('a', 'c', 'a', 'b'), ('a', 'c', 'b', 'a'), ('a', 'a', 'b', 'c'), ('a', 'a', 'c', 'b'), ('a', 'b', 'a', 'c'), ('a', 'b', 'c', 'a'), ('a', 'c', 'a', 'b'), ('a', 'c', 'b', 'a'), ('b', 'a', 'a', 'c'), ('b', 'a', 'c', 'a'), ('b', 'a', 'a', 'c'), ('b', 'a', 'c', 'a'), ('b', 'c', 'a', 'a'), ('b', 'c', 'a', 'a'), ('c', 'a', 'a', 'b'), ('c', 'a', 'b', 'a'), ('c', 'a', 'a', 'b'), ('c', 'a', 'b', 'a'), ('c', 'b', 'a', 'a'), ('c', 'b', 'a', 'a')] 24\n"
     ]
    }
   ],
   "source": [
    "import itertools\n",
    "\n",
    "s = 'aabc'\n",
    "\n",
    "p = itertools.permutations(s, 4)\n",
    "print(p)\n",
    "list_p = list(p)\n",
    "print(list_p, len(list_p))"
   ]
  },
  {
   "cell_type": "code",
   "execution_count": 9,
   "metadata": {},
   "outputs": [
    {
     "name": "stdout",
     "output_type": "stream",
     "text": [
      "['aabc', 'aacb', 'abac', 'abca', 'acab', 'acba', 'aabc', 'aacb', 'abac', 'abca', 'acab', 'acba', 'baac', 'baca', 'baac', 'baca', 'bcaa', 'bcaa', 'caab', 'caba', 'caab', 'caba', 'cbaa', 'cbaa']\n",
      "['aabc', 'aacb', 'abac', 'abca', 'acab', 'acba', 'baac', 'baca', 'bcaa', 'caab', 'caba', 'cbaa']\n",
      "6\n"
     ]
    }
   ],
   "source": [
    "res = []\n",
    "for i in list_p:\n",
    "    res.append(''.join(map(str, i)))\n",
    "print(res)\n",
    "res = sorted(set(res))\n",
    "print(res)\n",
    "print(res.index('baac'))"
   ]
  },
  {
   "cell_type": "markdown",
   "metadata": {},
   "source": [
    "## 2022-08-10 Wed."
   ]
  },
  {
   "cell_type": "code",
   "execution_count": 24,
   "metadata": {},
   "outputs": [
    {
     "data": {
      "text/plain": [
       "{'classic': [(2, 150)]}"
      ]
     },
     "execution_count": 24,
     "metadata": {},
     "output_type": "execute_result"
    }
   ],
   "source": [
    "# dict test\n",
    "d = {}\n",
    "d[\"classic\"] = d.get(\"classic\", [])\n",
    "d[\"classic\"].append((2, 150))\n",
    "d"
   ]
  },
  {
   "cell_type": "code",
   "execution_count": 25,
   "metadata": {},
   "outputs": [
    {
     "data": {
      "text/plain": [
       "{'classic': [(2, 150), (0, 500)]}"
      ]
     },
     "execution_count": 25,
     "metadata": {},
     "output_type": "execute_result"
    }
   ],
   "source": [
    "d[\"classic\"] = d.get(\"classic\", [])\n",
    "d[\"classic\"].append((0, 500))\n",
    "d"
   ]
  },
  {
   "cell_type": "code",
   "execution_count": 26,
   "metadata": {},
   "outputs": [
    {
     "data": {
      "text/plain": [
       "dict_items([('classic', [(2, 150), (0, 500)])])"
      ]
     },
     "execution_count": 26,
     "metadata": {},
     "output_type": "execute_result"
    }
   ],
   "source": [
    "d.items()"
   ]
  },
  {
   "cell_type": "code",
   "execution_count": 32,
   "metadata": {},
   "outputs": [
    {
     "name": "stdout",
     "output_type": "stream",
     "text": [
      "[<generator object <genexpr> at 0x00000155830ED200>]\n",
      "[1, 2, 3, 4, 5, 6, 7, 8, 9, 10]\n"
     ]
    }
   ],
   "source": [
    "a = list(range(1, 11))\n",
    "answer = []\n",
    "answer.append(i for i in a)\n",
    "print(answer)\n",
    "answer = [i for i in a]\n",
    "print(answer)"
   ]
  },
  {
   "cell_type": "code",
   "execution_count": null,
   "metadata": {},
   "outputs": [],
   "source": []
  }
 ],
 "metadata": {
  "kernelspec": {
   "display_name": "Python 3.9.12 ('ai')",
   "language": "python",
   "name": "python3"
  },
  "language_info": {
   "codemirror_mode": {
    "name": "ipython",
    "version": 3
   },
   "file_extension": ".py",
   "mimetype": "text/x-python",
   "name": "python",
   "nbconvert_exporter": "python",
   "pygments_lexer": "ipython3",
   "version": "3.9.12"
  },
  "orig_nbformat": 4,
  "vscode": {
   "interpreter": {
    "hash": "08df65f0370be3f33046daa5b6084091294a33fdabcb86999e4195ea5b522871"
   }
  }
 },
 "nbformat": 4,
 "nbformat_minor": 2
}
