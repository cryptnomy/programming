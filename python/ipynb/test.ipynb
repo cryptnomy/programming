{
 "cells": [
  {
   "cell_type": "markdown",
   "metadata": {},
   "source": [
    "### 2022-08-08 Mon."
   ]
  },
  {
   "cell_type": "code",
   "execution_count": 1,
   "metadata": {},
   "outputs": [
    {
     "name": "stdout",
     "output_type": "stream",
     "text": [
      "<itertools.permutations object at 0x0000029F77E10810>\n",
      "[('a', 'a', 'b', 'c'), ('a', 'a', 'c', 'b'), ('a', 'b', 'a', 'c'), ('a', 'b', 'c', 'a'), ('a', 'c', 'a', 'b'), ('a', 'c', 'b', 'a'), ('a', 'a', 'b', 'c'), ('a', 'a', 'c', 'b'), ('a', 'b', 'a', 'c'), ('a', 'b', 'c', 'a'), ('a', 'c', 'a', 'b'), ('a', 'c', 'b', 'a'), ('b', 'a', 'a', 'c'), ('b', 'a', 'c', 'a'), ('b', 'a', 'a', 'c'), ('b', 'a', 'c', 'a'), ('b', 'c', 'a', 'a'), ('b', 'c', 'a', 'a'), ('c', 'a', 'a', 'b'), ('c', 'a', 'b', 'a'), ('c', 'a', 'a', 'b'), ('c', 'a', 'b', 'a'), ('c', 'b', 'a', 'a'), ('c', 'b', 'a', 'a')] 24\n"
     ]
    }
   ],
   "source": [
    "import itertools\n",
    "\n",
    "s = 'aabc'\n",
    "\n",
    "p = itertools.permutations(s, 4)\n",
    "print(p)\n",
    "list_p = list(p)\n",
    "print(list_p, len(list_p))"
   ]
  },
  {
   "cell_type": "code",
   "execution_count": 2,
   "metadata": {},
   "outputs": [
    {
     "name": "stdout",
     "output_type": "stream",
     "text": [
      "['aabc', 'aacb', 'abac', 'abca', 'acab', 'acba', 'aabc', 'aacb', 'abac', 'abca', 'acab', 'acba', 'baac', 'baca', 'baac', 'baca', 'bcaa', 'bcaa', 'caab', 'caba', 'caab', 'caba', 'cbaa', 'cbaa']\n",
      "['aabc', 'aacb', 'abac', 'abca', 'acab', 'acba', 'baac', 'baca', 'bcaa', 'caab', 'caba', 'cbaa']\n",
      "6\n"
     ]
    }
   ],
   "source": [
    "res = []\n",
    "for i in list_p:\n",
    "    res.append(''.join(map(str, i)))\n",
    "print(res)\n",
    "res = sorted(set(res))\n",
    "print(res)\n",
    "print(res.index('baac'))"
   ]
  },
  {
   "cell_type": "markdown",
   "metadata": {},
   "source": [
    "### 2022-08-10 Wed."
   ]
  },
  {
   "cell_type": "code",
   "execution_count": 3,
   "metadata": {},
   "outputs": [
    {
     "data": {
      "text/plain": [
       "{'classic': [(2, 150)]}"
      ]
     },
     "execution_count": 3,
     "metadata": {},
     "output_type": "execute_result"
    }
   ],
   "source": [
    "# dict test\n",
    "d = {}\n",
    "d[\"classic\"] = d.get(\"classic\", [])\n",
    "d[\"classic\"].append((2, 150))\n",
    "d"
   ]
  },
  {
   "cell_type": "code",
   "execution_count": 4,
   "metadata": {},
   "outputs": [
    {
     "data": {
      "text/plain": [
       "{'classic': [(2, 150), (0, 500)]}"
      ]
     },
     "execution_count": 4,
     "metadata": {},
     "output_type": "execute_result"
    }
   ],
   "source": [
    "d[\"classic\"] = d.get(\"classic\", [])\n",
    "d[\"classic\"].append((0, 500))\n",
    "d"
   ]
  },
  {
   "cell_type": "code",
   "execution_count": 5,
   "metadata": {},
   "outputs": [
    {
     "data": {
      "text/plain": [
       "dict_items([('classic', [(2, 150), (0, 500)])])"
      ]
     },
     "execution_count": 5,
     "metadata": {},
     "output_type": "execute_result"
    }
   ],
   "source": [
    "d.items()"
   ]
  },
  {
   "cell_type": "code",
   "execution_count": 6,
   "metadata": {},
   "outputs": [
    {
     "name": "stdout",
     "output_type": "stream",
     "text": [
      "[<generator object <genexpr> at 0x0000029F77B6E730>]\n",
      "[1, 2, 3, 4, 5, 6, 7, 8, 9, 10]\n"
     ]
    }
   ],
   "source": [
    "a = list(range(1, 11))\n",
    "answer = []\n",
    "answer.append(i for i in a)\n",
    "print(answer)\n",
    "answer = [i for i in a]\n",
    "print(answer)"
   ]
  },
  {
   "cell_type": "markdown",
   "metadata": {},
   "source": [
    "### 2022-08-11 Thu."
   ]
  },
  {
   "cell_type": "code",
   "execution_count": 16,
   "metadata": {},
   "outputs": [
    {
     "ename": "",
     "evalue": "",
     "output_type": "error",
     "traceback": [
      "\u001b[1;31mCanceled future for execute_request message before replies were done"
     ]
    },
    {
     "ename": "",
     "evalue": "",
     "output_type": "error",
     "traceback": [
      "\u001b[1;31mThe Kernel crashed while executing code in the the current cell or a previous cell. Please review the code in the cell(s) to identify a possible cause of the failure. Click <a href='https://aka.ms/vscodeJupyterKernelCrash'>here</a> for more info. View Jupyter <a href='command:jupyter.viewOutput'>log</a> for further details."
     ]
    }
   ],
   "source": [
    "# Binary search of sorted array with duplicates\n",
    "def binarySearch(arr, low, high, target):\n",
    "    if low == high:\n",
    "        if arr[high] > target:\n",
    "            return high - 1\n",
    "        else:\n",
    "            return high\n",
    "    mid = (low + high) // 2\n",
    "    if arr[mid] > target:\n",
    "        return binarySearch(arr, low, mid - 1, target)\n",
    "    else:\n",
    "        return binarySearch(arr, mid + 1, high, target)\n",
    "\n",
    "arr = [-1, 1, 1, 2, 4, 5, 5, 8, 8, 9]\n",
    "low, high = 1, len(arr) - 1\n",
    "target = 1\n",
    "\n",
    "idx = binarySearch(arr, low, high, target)\n",
    "print(idx)"
   ]
  },
  {
   "cell_type": "code",
   "execution_count": null,
   "metadata": {},
   "outputs": [],
   "source": []
  }
 ],
 "metadata": {
  "kernelspec": {
   "display_name": "Python 3.10.6 64-bit (windows store)",
   "language": "python",
   "name": "python3"
  },
  "language_info": {
   "codemirror_mode": {
    "name": "ipython",
    "version": 3
   },
   "file_extension": ".py",
   "mimetype": "text/x-python",
   "name": "python",
   "nbconvert_exporter": "python",
   "pygments_lexer": "ipython3",
   "version": "3.10.6"
  },
  "orig_nbformat": 4,
  "vscode": {
   "interpreter": {
    "hash": "bdd5bc117c4b2ca08287c4075a6a3bc71cddede4972c509c5affcc2ca2006b8e"
   }
  }
 },
 "nbformat": 4,
 "nbformat_minor": 2
}
