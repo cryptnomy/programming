{
 "cells": [
  {
   "cell_type": "code",
   "execution_count": 1,
   "metadata": {},
   "outputs": [],
   "source": [
    "def swap_value(x, y):\n",
    "    temp = x\n",
    "    x = y\n",
    "    y = temp\n",
    "\n",
    "def swap_offset(x_offset, y_offset):\n",
    "    temp = ls[x_offset]\n",
    "    ls[x_offset] = ls[y_offset]\n",
    "    ls[y_offset] = temp\n",
    "\n",
    "def swap_reference(ls, x_offset, y_offset):\n",
    "    temp_ls = ls[:]\n",
    "    temp = temp_ls[x_offset]\n",
    "    temp_ls[x_offset] = temp_ls[y_offset]\n",
    "    temp_ls[y_offset] = temp"
   ]
  },
  {
   "cell_type": "code",
   "execution_count": 2,
   "metadata": {},
   "outputs": [
    {
     "data": {
      "text/plain": [
       "[1, 2, 3, 4, 5]"
      ]
     },
     "execution_count": 2,
     "metadata": {},
     "output_type": "execute_result"
    }
   ],
   "source": [
    "ls = [1, 2, 3, 4, 5]\n",
    "swap_value(ls[0], ls[1])\n",
    "ls"
   ]
  },
  {
   "cell_type": "code",
   "execution_count": 3,
   "metadata": {},
   "outputs": [
    {
     "data": {
      "text/plain": [
       "[2, 1, 3, 4, 5]"
      ]
     },
     "execution_count": 3,
     "metadata": {},
     "output_type": "execute_result"
    }
   ],
   "source": [
    "swap_offset(0, 1)\n",
    "ls"
   ]
  },
  {
   "cell_type": "code",
   "execution_count": 4,
   "metadata": {},
   "outputs": [
    {
     "data": {
      "text/plain": [
       "[1, 2, 3, 4, 5]"
      ]
     },
     "execution_count": 4,
     "metadata": {},
     "output_type": "execute_result"
    }
   ],
   "source": [
    "ls = [1, 2, 3, 4, 5]\n",
    "swap_reference(ls, 0, 1)\n",
    "ls"
   ]
  },
  {
   "cell_type": "code",
   "execution_count": 7,
   "metadata": {},
   "outputs": [
    {
     "name": "stdout",
     "output_type": "stream",
     "text": [
      "3628800\n"
     ]
    }
   ],
   "source": [
    "def factorial(n):\n",
    "    return 1 if n == 1 else n * factorial(n - 1)\n",
    "\n",
    "print(factorial(int(input(\"Input Number for Factorial Calculation: \"))))"
   ]
  },
  {
   "cell_type": "code",
   "execution_count": 8,
   "metadata": {},
   "outputs": [
    {
     "data": {
      "text/plain": [
       "'Hello, GT'"
      ]
     },
     "execution_count": 8,
     "metadata": {},
     "output_type": "execute_result"
    }
   ],
   "source": [
    "# function type hints\n",
    "def type_hint_example(name: str) -> str:\n",
    "    return f'Hello, {name}'\n",
    "\n",
    "type_hint_example(\"GT\")"
   ]
  },
  {
   "cell_type": "code",
   "execution_count": 10,
   "metadata": {},
   "outputs": [
    {
     "name": "stdout",
     "output_type": "stream",
     "text": [
      "\n",
      "    Returns the sum of two decimal numbers in binary digits.\n",
      "        Parameters:\n",
      "            a (int): A decimal integer\n",
      "            b (int): Another decimal integer\n",
      "        Returns:\n",
      "            binary_sum (str): Binary string of the sum of a and b\n",
      "    \n"
     ]
    }
   ],
   "source": [
    "# docstring\n",
    "def add_binary(a, b):  \n",
    "    '''\n",
    "    Returns the sum of two decimal numbers in binary digits.\n",
    "        Parameters:\n",
    "            a (int): A decimal integer\n",
    "            b (int): Another decimal integer\n",
    "        Returns:\n",
    "            binary_sum (str): Binary string of the sum of a and b\n",
    "    '''\n",
    "    binary_sum = bin(a + b)[2:]\n",
    "    return binary_sum\n",
    "\n",
    "print(add_binary.__doc__)"
   ]
  },
  {
   "cell_type": "code",
   "execution_count": null,
   "metadata": {},
   "outputs": [],
   "source": [
    "def calculate_rectangle_area(x: int, y: int) -> int:\n",
    "    \"\"\"_summary_\n",
    "\n",
    "    Args:\n",
    "        x (int): _description_\n",
    "        y (int): _description_\n",
    "\n",
    "    Returns:\n",
    "        int: _description_\n",
    "    \"\"\"\n",
    "    return x * y"
   ]
  },
  {
   "cell_type": "code",
   "execution_count": 3,
   "metadata": {},
   "outputs": [
    {
     "name": "stdout",
     "output_type": "stream",
     "text": [
      "('America', 1)\n",
      "('Korea', 82)\n",
      "('China', 86)\n",
      "('Japan', 81)\n"
     ]
    }
   ],
   "source": [
    "country_code = {}\n",
    "country_code = {\"America\": 1, \"Korea\": 82, \"China\": 86, \"Japan\": 81}\n",
    "country_code\n",
    "\n",
    "for dict_items in country_code.items():\n",
    "    print(dict_items)"
   ]
  }
 ],
 "metadata": {
  "kernelspec": {
   "display_name": "Python 3.9.12 ('ai')",
   "language": "python",
   "name": "python3"
  },
  "language_info": {
   "codemirror_mode": {
    "name": "ipython",
    "version": 3
   },
   "file_extension": ".py",
   "mimetype": "text/x-python",
   "name": "python",
   "nbconvert_exporter": "python",
   "pygments_lexer": "ipython3",
   "version": "3.9.12"
  },
  "orig_nbformat": 4,
  "vscode": {
   "interpreter": {
    "hash": "d2a03096a555fc628c9f1d368e752cfae6531cae4b8a573252b0c7456356e9b1"
   }
  }
 },
 "nbformat": 4,
 "nbformat_minor": 2
}
